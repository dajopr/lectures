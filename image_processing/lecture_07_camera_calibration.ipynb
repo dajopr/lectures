{
  "cells": [
    {
      "cell_type": "markdown",
      "metadata": {
        "id": "view-in-github",
        "colab_type": "text"
      },
      "source": [
        "<a href=\"https://colab.research.google.com/github/dajopr/lectures/blob/main/image_processing/lecture_07_camera_calibration.ipynb\" target=\"_parent\"><img src=\"https://colab.research.google.com/assets/colab-badge.svg\" alt=\"Open In Colab\"/></a>"
      ]
    },
    {
      "cell_type": "markdown",
      "metadata": {
        "id": "spysoZV4WbeA"
      },
      "source": [
        "# Exercise: Camera Calibration and Undistortion\n",
        "\n",
        "**Objective:** To understand and apply the camera calibration process using OpenCV to find camera intrinsic parameters and distortion coefficients. This exercise will cover preparing calibration patterns, finding corners, performing calibration, and applying the results to undistort an image.\n",
        "\n",
        "**Background:**\n",
        "Camera calibration is a crucial step in many computer vision applications. It involves determining the camera's intrinsic parameters (like focal length and optical centers) and distortion coefficients. OpenCV provides tools to perform calibration using images of a known pattern, such as a chessboard. Once calibrated, images can be undistorted to remove lens artifacts."
      ],
      "id": "spysoZV4WbeA"
    },
    {
      "cell_type": "markdown",
      "metadata": {
        "id": "Izb9KbAsWbeD"
      },
      "source": [
        "**0. Setup and Prerequisites:**\n",
        "    * Ensure you have Python, OpenCV (`cv2`), NumPy (`numpy`), and Matplotlib (`matplotlib`) installed.\n",
        "    * You will need a set of images of a chessboard pattern taken from various angles and distances. The tutorial suggests at least 10 good images. Ensure the entire chessboard is visible in each. The size of the chessboard (e.g., 9x6 squares) needs to be known.\n",
        "    * Create a directory (e.g., `calibration_images/`) in the same location as this notebook and place your chessboard images there."
      ],
      "id": "Izb9KbAsWbeD"
    },
    {
      "cell_type": "code",
      "execution_count": null,
      "metadata": {
        "id": "mBeEwtzwWbeE"
      },
      "outputs": [],
      "source": [
        "import cv2\n",
        "import numpy as np\n",
        "import glob\n",
        "import matplotlib.pyplot as plt"
      ],
      "id": "mBeEwtzwWbeE"
    },
    {
      "cell_type": "markdown",
      "metadata": {
        "id": "t5NRAhQfWbeF"
      },
      "source": [
        "**1. Prepare Object Points and Image Points:**\n",
        "    * **Object Points:**\n",
        "        * Define the real-world coordinates of the 3D points on your chessboard. For a chessboard pattern, these points are the corners of the squares.\n",
        "        * For a chessboard with `nx` by `ny` internal corners (e.g., for a 9x6 board, `nx=8, ny=5` if counting squares, or `nx=9, ny=6` if counting internal corners along edges), the coordinates can be set as `(0,0,0), (1,0,0), ..., (nx-1,0,0), (0,1,0), ..., (nx-1,ny-1,0)`. Assume the Z-coordinate is always 0 as the pattern is planar.\n",
        "    * **Image Points:**\n",
        "        * These will store the 2D coordinates of the detected corners in your calibration images.\n",
        "    * Define the chessboard size (number of internal corners)."
      ],
      "id": "t5NRAhQfWbeF"
    },
    {
      "cell_type": "code",
      "execution_count": null,
      "metadata": {
        "id": "qVQ8txizWbeG"
      },
      "outputs": [],
      "source": [
        "# Define the dimensions of the chessboard (number of internal corners)\n",
        "CHECKERBOARD_WIDTH = None  # Number of internal corners along the width\n",
        "CHECKERBOARD_HEIGHT = None  # Number of internal corners along the height\n",
        "CHECKERBOARD = (CHECKERBOARD_WIDTH, CHECKERBOARD_HEIGHT)\n",
        "\n",
        "# Termination criteria for cornerSubPix\n",
        "criteria = (cv2.TERM_CRITERIA_EPS + cv2.TERM_CRITERIA_MAX_ITER, 30, 0.001)\n",
        "\n",
        "# Prepare object points, like (0,0,0), (1,0,0), (2,0,0) ....,(CHECKERBOARD_WIDTH-1, CHECKERBOARD_HEIGHT-1,0)\n",
        "objp = np.zeros((CHECKERBOARD_HEIGHT * CHECKERBOARD_WIDTH, 3), np.float32)\n",
        "objp[:, :2] = np.mgrid[0:CHECKERBOARD_WIDTH, 0:CHECKERBOARD_HEIGHT].T.reshape(-1, 2)\n",
        "# You can multiply by square size here if you want units in mm or inches, e.g., objp = objp * square_size\n",
        "\n",
        "# Arrays to store object points and image points from all the images.\n",
        "objpoints = []  # 3d point in real world space\n",
        "imgpoints = []  # 2d points in image plane.\n",
        "\n",
        "# Path to your calibration images\n",
        "# MAKE SURE YOU HAVE A FOLDER NAMED 'calibration_images' WITH YOUR IMAGES\n",
        "images_path = (\n",
        "    \"images/chessboards/*.jpg\"  # Adjust if your images are .png or other format\n",
        ")\n",
        "images = glob.glob(images_path)\n",
        "\n",
        "if not images:\n",
        "    print(f\"No images found at {images_path}. Please check the path and image format.\")\n",
        "else:\n",
        "    print(f\"Found {len(images)} images for calibration.\")"
      ],
      "id": "qVQ8txizWbeG"
    },
    {
      "cell_type": "markdown",
      "metadata": {
        "id": "rYFODh2HWbeH"
      },
      "source": [
        "**2. Find Chessboard Corners:**\n",
        "    * Load each calibration image.\n",
        "    * Convert to grayscale.\n",
        "    * Use `cv2.findChessboardCorners()`.\n",
        "    * If corners are found, refine them using `cv2.cornerSubPix()` and store object/image points.\n",
        "    * (Optional but recommended) Draw and display corners for verification."
      ],
      "id": "rYFODh2HWbeH"
    },
    {
      "cell_type": "code",
      "execution_count": null,
      "metadata": {
        "id": "lKLJU4NaWbeI"
      },
      "outputs": [],
      "source": [],
      "id": "lKLJU4NaWbeI"
    },
    {
      "cell_type": "markdown",
      "metadata": {
        "id": "RlSM018hWbeJ"
      },
      "source": [
        "**3. Perform Camera Calibration:**\n",
        "    * Use `cv2.calibrateCamera()` with your `objpoints`, `imgpoints`, and the grayscale image shape.\n",
        "    * Print the obtained camera matrix (`mtx`) and distortion coefficients (`dist`)."
      ],
      "id": "RlSM018hWbeJ"
    },
    {
      "cell_type": "code",
      "execution_count": null,
      "id": "66c33686",
      "metadata": {
        "id": "66c33686"
      },
      "outputs": [],
      "source": []
    },
    {
      "cell_type": "markdown",
      "metadata": {
        "id": "WP-A5ZuZWbeL"
      },
      "source": [
        "**4. Undistort an Image:**\n",
        "    * Load one of your calibration images (or a new image).\n",
        "    * Use `cv2.getOptimalNewCameraMatrix()` to refine the camera matrix.\n",
        "    * Undistort the image using `cv2.undistort()`.\n",
        "    * Display the original and undistorted images."
      ],
      "id": "WP-A5ZuZWbeL"
    },
    {
      "cell_type": "code",
      "execution_count": null,
      "metadata": {
        "id": "-zbERjV4WbeL"
      },
      "outputs": [],
      "source": [],
      "id": "-zbERjV4WbeL"
    },
    {
      "cell_type": "markdown",
      "metadata": {
        "id": "CljyCUJOWbeM"
      },
      "source": [
        "**5. Re-projection Error (Optional but Recommended):**\n",
        "    * Calculate the re-projection error to evaluate the accuracy of your calibration."
      ],
      "id": "CljyCUJOWbeM"
    },
    {
      "cell_type": "code",
      "execution_count": null,
      "metadata": {
        "id": "fIajTV1EWbeM"
      },
      "outputs": [],
      "source": [],
      "id": "fIajTV1EWbeM"
    },
    {
      "cell_type": "markdown",
      "metadata": {
        "id": "WsdHBailWbeM"
      },
      "source": [
        "**Questions & Discussion:**\n",
        "\n",
        "1.  Why is it important to use multiple images of the chessboard from different viewpoints for calibration?\n",
        "2.  What do the camera matrix (`mtx`) and distortion coefficients (`dist`) represent? Explain the main components of the camera matrix (fx, fy, cx, cy).\n",
        "3.  What is the effect of the `alpha` parameter in `cv2.getOptimalNewCameraMatrix()`? Try running your undistortion with different `alpha` values (e.g., 0 and 1) and describe the differences in the output.\n",
        "4.  If you calculated the re-projection error, what was your mean error? Is it generally considered acceptable for this type of calibration?\n",
        "5.  The tutorial mentions two ways of undistortion: `cv2.undistort()` and using `cv2.initUndistortRectifyMap()` followed by `cv2.remap()`. What is the primary advantage of using the remapping method, especially for video processing?"
      ],
      "id": "WsdHBailWbeM"
    }
  ],
  "metadata": {
    "kernelspec": {
      "display_name": "3dad",
      "language": "python",
      "name": "python3"
    },
    "language_info": {
      "codemirror_mode": {
        "name": "ipython",
        "version": 3
      },
      "file_extension": ".py",
      "mimetype": "text/x-python",
      "name": "python",
      "nbconvert_exporter": "python",
      "pygments_lexer": "ipython3",
      "version": "3.11.11"
    },
    "colab": {
      "provenance": [],
      "include_colab_link": true
    }
  },
  "nbformat": 4,
  "nbformat_minor": 5
}